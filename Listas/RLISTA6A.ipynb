{
 "cells": [
  {
   "cell_type": "markdown",
   "metadata": {},
   "source": [
    "\n",
    "<h2 align=\"center\">ESTATÍSTICA APLICADA</h2>\n",
    "<h6 align=\"center\">ENGENHARIA DE COMPUTAÇÃO</h6>\n",
    "<center>LISTA 6A</center>\n",
    "<center>ALUNO: Maria Eduarda Pereira de Souza Melo</center>"
   ]
  },
  {
   "cell_type": "markdown",
   "metadata": {},
   "source": [
    "**QUESTÃO1: Junção no sentido da linha**\n"
   ]
  },
  {
   "cell_type": "code",
   "execution_count": 1,
   "metadata": {},
   "outputs": [
    {
     "data": {
      "text/html": [
       "<div>\n",
       "<style scoped>\n",
       "    .dataframe tbody tr th:only-of-type {\n",
       "        vertical-align: middle;\n",
       "    }\n",
       "\n",
       "    .dataframe tbody tr th {\n",
       "        vertical-align: top;\n",
       "    }\n",
       "\n",
       "    .dataframe thead th {\n",
       "        text-align: right;\n",
       "    }\n",
       "</style>\n",
       "<table border=\"1\" class=\"dataframe\">\n",
       "  <thead>\n",
       "    <tr style=\"text-align: right;\">\n",
       "      <th></th>\n",
       "      <th>loja</th>\n",
       "      <th>dia</th>\n",
       "      <th>valor</th>\n",
       "    </tr>\n",
       "  </thead>\n",
       "  <tbody>\n",
       "    <tr>\n",
       "      <th>0</th>\n",
       "      <td>A</td>\n",
       "      <td>sex</td>\n",
       "      <td>7500</td>\n",
       "    </tr>\n",
       "    <tr>\n",
       "      <th>1</th>\n",
       "      <td>A</td>\n",
       "      <td>sab</td>\n",
       "      <td>9500</td>\n",
       "    </tr>\n",
       "    <tr>\n",
       "      <th>2</th>\n",
       "      <td>A</td>\n",
       "      <td>dom</td>\n",
       "      <td>8200</td>\n",
       "    </tr>\n",
       "    <tr>\n",
       "      <th>0</th>\n",
       "      <td>B</td>\n",
       "      <td>sex</td>\n",
       "      <td>5100</td>\n",
       "    </tr>\n",
       "    <tr>\n",
       "      <th>1</th>\n",
       "      <td>B</td>\n",
       "      <td>sab</td>\n",
       "      <td>8250</td>\n",
       "    </tr>\n",
       "    <tr>\n",
       "      <th>2</th>\n",
       "      <td>B</td>\n",
       "      <td>dom</td>\n",
       "      <td>9900</td>\n",
       "    </tr>\n",
       "    <tr>\n",
       "      <th>0</th>\n",
       "      <td>C</td>\n",
       "      <td>sab</td>\n",
       "      <td>7500</td>\n",
       "    </tr>\n",
       "    <tr>\n",
       "      <th>1</th>\n",
       "      <td>C</td>\n",
       "      <td>dom</td>\n",
       "      <td>11800</td>\n",
       "    </tr>\n",
       "  </tbody>\n",
       "</table>\n",
       "</div>"
      ],
      "text/plain": [
       "  loja  dia  valor\n",
       "0    A  sex   7500\n",
       "1    A  sab   9500\n",
       "2    A  dom   8200\n",
       "0    B  sex   5100\n",
       "1    B  sab   8250\n",
       "2    B  dom   9900\n",
       "0    C  sab   7500\n",
       "1    C  dom  11800"
      ]
     },
     "execution_count": 1,
     "metadata": {},
     "output_type": "execute_result"
    }
   ],
   "source": [
    "import pandas as pd\n",
    "Mercearia = pd.DataFrame({\"loja\":[\"A\", \"A\", \"A\"],\n",
    "\"dia\": [\"sex\", \"sab\", \"dom\"],\n",
    "\"valor\": [7500, 9500, 8200]})\n",
    "\n",
    "Farmácia = pd.DataFrame({\"loja\":[\"B\", \"B\", \"B\"],\n",
    "\"dia\": [\"sex\", \"sab\", \"dom\"],\n",
    "\"valor\": [5100, 8250, 9900]})\n",
    "\n",
    "Restaurante = pd.DataFrame({\"loja\":[\"C\", \"C\"],\n",
    "\"dia\": [\"sab\", \"dom\"],\n",
    "\"valor\": [7500, 11800]})\n",
    "x = pd.concat([Mercearia, Farmácia,Restaurante])\n",
    "x"
   ]
  },
  {
   "cell_type": "markdown",
   "metadata": {},
   "source": [
    "**QUESTÃO 1: No sentido das colunas**"
   ]
  },
  {
   "cell_type": "code",
   "execution_count": 2,
   "metadata": {},
   "outputs": [
    {
     "data": {
      "text/html": [
       "<div>\n",
       "<style scoped>\n",
       "    .dataframe tbody tr th:only-of-type {\n",
       "        vertical-align: middle;\n",
       "    }\n",
       "\n",
       "    .dataframe tbody tr th {\n",
       "        vertical-align: top;\n",
       "    }\n",
       "\n",
       "    .dataframe thead th {\n",
       "        text-align: right;\n",
       "    }\n",
       "</style>\n",
       "<table border=\"1\" class=\"dataframe\">\n",
       "  <thead>\n",
       "    <tr style=\"text-align: right;\">\n",
       "      <th></th>\n",
       "      <th>loja</th>\n",
       "      <th>dia</th>\n",
       "      <th>valor</th>\n",
       "      <th>loja</th>\n",
       "      <th>dia</th>\n",
       "      <th>valor</th>\n",
       "      <th>loja</th>\n",
       "      <th>dia</th>\n",
       "      <th>valor</th>\n",
       "    </tr>\n",
       "  </thead>\n",
       "  <tbody>\n",
       "    <tr>\n",
       "      <th>0</th>\n",
       "      <td>A</td>\n",
       "      <td>sex</td>\n",
       "      <td>7500</td>\n",
       "      <td>B</td>\n",
       "      <td>sex</td>\n",
       "      <td>5100</td>\n",
       "      <td>C</td>\n",
       "      <td>sab</td>\n",
       "      <td>7500.0</td>\n",
       "    </tr>\n",
       "    <tr>\n",
       "      <th>1</th>\n",
       "      <td>A</td>\n",
       "      <td>sab</td>\n",
       "      <td>9500</td>\n",
       "      <td>B</td>\n",
       "      <td>sab</td>\n",
       "      <td>8250</td>\n",
       "      <td>C</td>\n",
       "      <td>dom</td>\n",
       "      <td>11800.0</td>\n",
       "    </tr>\n",
       "    <tr>\n",
       "      <th>2</th>\n",
       "      <td>A</td>\n",
       "      <td>dom</td>\n",
       "      <td>8200</td>\n",
       "      <td>B</td>\n",
       "      <td>dom</td>\n",
       "      <td>9900</td>\n",
       "      <td>NaN</td>\n",
       "      <td>NaN</td>\n",
       "      <td>NaN</td>\n",
       "    </tr>\n",
       "  </tbody>\n",
       "</table>\n",
       "</div>"
      ],
      "text/plain": [
       "  loja  dia  valor loja  dia  valor loja  dia    valor\n",
       "0    A  sex   7500    B  sex   5100    C  sab   7500.0\n",
       "1    A  sab   9500    B  sab   8250    C  dom  11800.0\n",
       "2    A  dom   8200    B  dom   9900  NaN  NaN      NaN"
      ]
     },
     "execution_count": 2,
     "metadata": {},
     "output_type": "execute_result"
    }
   ],
   "source": [
    "y = pd.concat([Mercearia, Farmácia,Restaurante], axis=1) \n",
    "y"
   ]
  },
  {
   "cell_type": "markdown",
   "metadata": {},
   "source": [
    "**Por padrão o concat adiciona os dataframes no sentindo de linha(axis =0), então quando especificamos o axis=1 estamos fazendo a junção por colunas. O valor NaN apareceu pois o dataframe restaurante possui apenas dois indíces.**"
   ]
  },
  {
   "cell_type": "markdown",
   "metadata": {},
   "source": [
    "**QUESTÃO 2A:**"
   ]
  },
  {
   "cell_type": "code",
   "execution_count": 3,
   "metadata": {
    "scrolled": true
   },
   "outputs": [
    {
     "data": {
      "text/html": [
       "<div>\n",
       "<style scoped>\n",
       "    .dataframe tbody tr th:only-of-type {\n",
       "        vertical-align: middle;\n",
       "    }\n",
       "\n",
       "    .dataframe tbody tr th {\n",
       "        vertical-align: top;\n",
       "    }\n",
       "\n",
       "    .dataframe thead th {\n",
       "        text-align: right;\n",
       "    }\n",
       "</style>\n",
       "<table border=\"1\" class=\"dataframe\">\n",
       "  <thead>\n",
       "    <tr style=\"text-align: right;\">\n",
       "      <th></th>\n",
       "      <th>email</th>\n",
       "    </tr>\n",
       "  </thead>\n",
       "  <tbody>\n",
       "    <tr>\n",
       "      <th>1</th>\n",
       "      <td>ecg@acmecorpus.com</td>\n",
       "    </tr>\n",
       "    <tr>\n",
       "      <th>0</th>\n",
       "      <td>ana@xyz.com</td>\n",
       "    </tr>\n",
       "    <tr>\n",
       "      <th>1</th>\n",
       "      <td>jonas@acmecorpus.com</td>\n",
       "    </tr>\n",
       "  </tbody>\n",
       "</table>\n",
       "</div>"
      ],
      "text/plain": [
       "                  email\n",
       "1    ecg@acmecorpus.com\n",
       "0           ana@xyz.com\n",
       "1  jonas@acmecorpus.com"
      ]
     },
     "execution_count": 3,
     "metadata": {},
     "output_type": "execute_result"
    }
   ],
   "source": [
    "SQL = pd.DataFrame({\"email\":[\"rakesh@xyz.com\",\n",
    "\"ecg@acmecorpus.com\"]})\n",
    "\n",
    "PYTHON = pd.DataFrame({\"email\":[\"ana@xyz.com\",\n",
    "\"jonas@acmecorpus.com\",\n",
    "\"rakesh@xyz.com\"]})\n",
    "\n",
    "iguais = pd.concat([SQL, PYTHON])\n",
    "x = iguais.drop_duplicates('email', keep=False)\n",
    "x"
   ]
  },
  {
   "cell_type": "markdown",
   "metadata": {},
   "source": [
    "**QUESTÃO 2B:**"
   ]
  },
  {
   "cell_type": "code",
   "execution_count": 4,
   "metadata": {},
   "outputs": [
    {
     "data": {
      "text/html": [
       "<div>\n",
       "<style scoped>\n",
       "    .dataframe tbody tr th:only-of-type {\n",
       "        vertical-align: middle;\n",
       "    }\n",
       "\n",
       "    .dataframe tbody tr th {\n",
       "        vertical-align: top;\n",
       "    }\n",
       "\n",
       "    .dataframe thead th {\n",
       "        text-align: right;\n",
       "    }\n",
       "</style>\n",
       "<table border=\"1\" class=\"dataframe\">\n",
       "  <thead>\n",
       "    <tr style=\"text-align: right;\">\n",
       "      <th></th>\n",
       "      <th>email</th>\n",
       "    </tr>\n",
       "  </thead>\n",
       "  <tbody>\n",
       "    <tr>\n",
       "      <th>0</th>\n",
       "      <td>rakesh@xyz.com</td>\n",
       "    </tr>\n",
       "  </tbody>\n",
       "</table>\n",
       "</div>"
      ],
      "text/plain": [
       "            email\n",
       "0  rakesh@xyz.com"
      ]
     },
     "execution_count": 4,
     "metadata": {},
     "output_type": "execute_result"
    }
   ],
   "source": [
    "duplicados = pd.merge(SQL,PYTHON)\n",
    "duplicados\n"
   ]
  },
  {
   "cell_type": "markdown",
   "metadata": {},
   "source": [
    "**QUESTÃO 2C: Email do indivíduo que fez apenas o curso de SQL**"
   ]
  },
  {
   "cell_type": "code",
   "execution_count": 5,
   "metadata": {},
   "outputs": [
    {
     "data": {
      "text/html": [
       "<div>\n",
       "<style scoped>\n",
       "    .dataframe tbody tr th:only-of-type {\n",
       "        vertical-align: middle;\n",
       "    }\n",
       "\n",
       "    .dataframe tbody tr th {\n",
       "        vertical-align: top;\n",
       "    }\n",
       "\n",
       "    .dataframe thead th {\n",
       "        text-align: right;\n",
       "    }\n",
       "</style>\n",
       "<table border=\"1\" class=\"dataframe\">\n",
       "  <thead>\n",
       "    <tr style=\"text-align: right;\">\n",
       "      <th></th>\n",
       "      <th>email</th>\n",
       "    </tr>\n",
       "  </thead>\n",
       "  <tbody>\n",
       "    <tr>\n",
       "      <th>1</th>\n",
       "      <td>ecg@acmecorpus.com</td>\n",
       "    </tr>\n",
       "  </tbody>\n",
       "</table>\n",
       "</div>"
      ],
      "text/plain": [
       "                email\n",
       "1  ecg@acmecorpus.com"
      ]
     },
     "execution_count": 5,
     "metadata": {},
     "output_type": "execute_result"
    }
   ],
   "source": [
    "Repetidos = pd.concat([SQL,duplicados])\n",
    "unico = Repetidos.drop_duplicates('email',keep=False)\n",
    "unico"
   ]
  },
  {
   "cell_type": "markdown",
   "metadata": {},
   "source": [
    "**Email dos indivíduos que fizeram apenas o curso de PYTHON**"
   ]
  },
  {
   "cell_type": "code",
   "execution_count": 6,
   "metadata": {},
   "outputs": [
    {
     "data": {
      "text/html": [
       "<div>\n",
       "<style scoped>\n",
       "    .dataframe tbody tr th:only-of-type {\n",
       "        vertical-align: middle;\n",
       "    }\n",
       "\n",
       "    .dataframe tbody tr th {\n",
       "        vertical-align: top;\n",
       "    }\n",
       "\n",
       "    .dataframe thead th {\n",
       "        text-align: right;\n",
       "    }\n",
       "</style>\n",
       "<table border=\"1\" class=\"dataframe\">\n",
       "  <thead>\n",
       "    <tr style=\"text-align: right;\">\n",
       "      <th></th>\n",
       "      <th>email</th>\n",
       "    </tr>\n",
       "  </thead>\n",
       "  <tbody>\n",
       "    <tr>\n",
       "      <th>0</th>\n",
       "      <td>ana@xyz.com</td>\n",
       "    </tr>\n",
       "    <tr>\n",
       "      <th>1</th>\n",
       "      <td>jonas@acmecorpus.com</td>\n",
       "    </tr>\n",
       "  </tbody>\n",
       "</table>\n",
       "</div>"
      ],
      "text/plain": [
       "                  email\n",
       "0           ana@xyz.com\n",
       "1  jonas@acmecorpus.com"
      ]
     },
     "execution_count": 6,
     "metadata": {},
     "output_type": "execute_result"
    }
   ],
   "source": [
    "Repetidos = pd.concat([PYTHON, duplicados])\n",
    "unico = Repetidos.drop_duplicates('email', keep=False)\n",
    "unico"
   ]
  },
  {
   "cell_type": "markdown",
   "metadata": {},
   "source": [
    "**QUESTÃO 3:**"
   ]
  },
  {
   "cell_type": "code",
   "execution_count": 7,
   "metadata": {
    "scrolled": true
   },
   "outputs": [
    {
     "data": {
      "text/html": [
       "<div>\n",
       "<style scoped>\n",
       "    .dataframe tbody tr th:only-of-type {\n",
       "        vertical-align: middle;\n",
       "    }\n",
       "\n",
       "    .dataframe tbody tr th {\n",
       "        vertical-align: top;\n",
       "    }\n",
       "\n",
       "    .dataframe thead th {\n",
       "        text-align: right;\n",
       "    }\n",
       "</style>\n",
       "<table border=\"1\" class=\"dataframe\">\n",
       "  <thead>\n",
       "    <tr style=\"text-align: right;\">\n",
       "      <th></th>\n",
       "      <th>num</th>\n",
       "      <th>nome</th>\n",
       "      <th>salario</th>\n",
       "      <th>idDepto</th>\n",
       "      <th>id</th>\n",
       "      <th>nomDepto</th>\n",
       "      <th>local</th>\n",
       "    </tr>\n",
       "  </thead>\n",
       "  <tbody>\n",
       "    <tr>\n",
       "      <th>0</th>\n",
       "      <td>3199</td>\n",
       "      <td>Ana</td>\n",
       "      <td>1600</td>\n",
       "      <td>D2</td>\n",
       "      <td>D2</td>\n",
       "      <td>RH</td>\n",
       "      <td>RJ</td>\n",
       "    </tr>\n",
       "    <tr>\n",
       "      <th>1</th>\n",
       "      <td>3269</td>\n",
       "      <td>David</td>\n",
       "      <td>2975</td>\n",
       "      <td>D3</td>\n",
       "      <td>D3</td>\n",
       "      <td>TI</td>\n",
       "      <td>RJ</td>\n",
       "    </tr>\n",
       "    <tr>\n",
       "      <th>2</th>\n",
       "      <td>3555</td>\n",
       "      <td>José</td>\n",
       "      <td>1500</td>\n",
       "      <td>None</td>\n",
       "      <td>NaN</td>\n",
       "      <td>NaN</td>\n",
       "      <td>NaN</td>\n",
       "    </tr>\n",
       "    <tr>\n",
       "      <th>3</th>\n",
       "      <td>3788</td>\n",
       "      <td>Marina</td>\n",
       "      <td>5000</td>\n",
       "      <td>D2</td>\n",
       "      <td>D2</td>\n",
       "      <td>RH</td>\n",
       "      <td>RJ</td>\n",
       "    </tr>\n",
       "    <tr>\n",
       "      <th>4</th>\n",
       "      <td>3844</td>\n",
       "      <td>Luís</td>\n",
       "      <td>3000</td>\n",
       "      <td>D4</td>\n",
       "      <td>D4</td>\n",
       "      <td>Vendas</td>\n",
       "      <td>SP</td>\n",
       "    </tr>\n",
       "  </tbody>\n",
       "</table>\n",
       "</div>"
      ],
      "text/plain": [
       "    num    nome  salario idDepto   id nomDepto local\n",
       "0  3199     Ana     1600      D2   D2       RH    RJ\n",
       "1  3269   David     2975      D3   D3       TI    RJ\n",
       "2  3555    José     1500    None  NaN      NaN   NaN\n",
       "3  3788  Marina     5000      D2   D2       RH    RJ\n",
       "4  3844    Luís     3000      D4   D4   Vendas    SP"
      ]
     },
     "execution_count": 7,
     "metadata": {},
     "output_type": "execute_result"
    }
   ],
   "source": [
    "dic_emp = {\"id\":[\"D1\",\"D2\",\"D3\",\"D4\"],\n",
    "\"nomDepto\": [\"Compras\",\"RH\",\"TI\",\"Vendas\"],\n",
    "\"local\":[\"SP\",\"RJ\",\"RJ\",\"SP\"]\n",
    "}\n",
    "\n",
    "dic_func = {\"num\":[3199,3269,3555,3788,3844],\n",
    "\"nome\": [\"Ana\",\"David\",\"José\",\"Marina\",\"Luís\"],\n",
    "\"salario\":[1600,2975,1500,5000,3000],\n",
    "\"idDepto\": [\"D2\",\"D3\",None,\"D2\",\"D4\"]\n",
    "}\n",
    "empresa = pd.DataFrame(dic_emp)\n",
    "funcionarios = pd.DataFrame(dic_func)\n",
    "NOVO = pd.merge(funcionarios,empresa,how=\"left\",left_on=\"idDepto\",right_on=\"id\")\n",
    "NOVO"
   ]
  }
 ],
 "metadata": {
  "kernelspec": {
   "display_name": "Python 3",
   "language": "python",
   "name": "python3"
  },
  "language_info": {
   "codemirror_mode": {
    "name": "ipython",
    "version": 3
   },
   "file_extension": ".py",
   "mimetype": "text/x-python",
   "name": "python",
   "nbconvert_exporter": "python",
   "pygments_lexer": "ipython3",
   "version": "3.8.10"
  }
 },
 "nbformat": 4,
 "nbformat_minor": 4
}
