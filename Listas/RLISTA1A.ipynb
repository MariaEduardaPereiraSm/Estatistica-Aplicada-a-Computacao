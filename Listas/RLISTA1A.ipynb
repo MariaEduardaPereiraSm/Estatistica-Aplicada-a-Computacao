{
 "cells": [
  {
   "cell_type": "markdown",
   "metadata": {},
   "source": [
    "\n",
    "<center>ESTATÍSTICA APLICADA</center>\n",
    "<center>ENGENHARIA DE COMPUTAÇÃO</center>\n",
    "<center>LISTA 1A</center>\n",
    "<center>ALUNO: Maria Eduarda Pereira de Souza Melo</center>"
   ]
  },
  {
   "cell_type": "markdown",
   "metadata": {},
   "source": [
    "1.\n",
    " \n",
    "(a) Alturas de balões de ar quente: Variável quantitativa, pois a altura é expressa em números.\n",
    "\n",
    "(b) Capacidades de carga de caminhonetes: Variável quantitativa, pois a capacidade de carga é contável e finita.\n",
    "    \n",
    "(c) Cores dos olhos de modelos: Variáveis qualitativas pois as cores dos olhos se distinguem por características não numéricas.\n",
    "    \n",
    "(d) Números de identidade de estudantes: Quantitativa, pois descrevem quantidades e podemos, de certa forma, organizar esses números.\n",
    "    \n",
    "(e) Respostas em uma pesquisa de opinião: Qualitativa pois se distinguem por características não numéricas.\n",
    "\n",
    "\n",
    "\n",
    "2.\n",
    "\n",
    "Sexo: Variável qualitativa, pois descreve uma categoria não numérica.\n",
    "\n",
    "Predileta: Variável qualitativa, pois descreve uma disciplina, . \n",
    "\n",
    "Nota: Variável quantitativa, pois descreve uma quantidade numérica.\n",
    "\n",
    "\n",
    "\n",
    "\n",
    "3.\n",
    "\n",
    "Pap: Variável qualitativa, pois descreve uma categoria. \n",
    "\n",
    "Gi: Variável qualitativa, pois descreve uma categoria.\n",
    "\n",
    "Res: Variável quantitativa pois descreve um valor.\n",
    "\n",
    "Renda: Variável quantitativa pois descreve uma quantidade numérica.\n",
    "\n",
    "\n"
   ]
  }
 ],
 "metadata": {
  "kernelspec": {
   "display_name": "Python 3",
   "language": "python",
   "name": "python3"
  },
  "language_info": {
   "codemirror_mode": {
    "name": "ipython",
    "version": 3
   },
   "file_extension": ".py",
   "mimetype": "text/x-python",
   "name": "python",
   "nbconvert_exporter": "python",
   "pygments_lexer": "ipython3",
   "version": "3.8.10"
  }
 },
 "nbformat": 4,
 "nbformat_minor": 4
}
